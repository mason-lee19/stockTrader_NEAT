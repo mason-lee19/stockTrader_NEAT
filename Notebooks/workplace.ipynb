{
 "cells": [
  {
   "cell_type": "code",
   "execution_count": 5,
   "metadata": {},
   "outputs": [],
   "source": [
    "import sys\n",
    "sys.path.insert(0, '/Users/ml1000278614/Documents/PythonProjects/stockTrader_NEAT')"
   ]
  },
  {
   "cell_type": "code",
   "execution_count": 6,
   "metadata": {},
   "outputs": [],
   "source": [
    "from DataBase import DatabaseConfig, StockDataHandler"
   ]
  },
  {
   "cell_type": "code",
   "execution_count": 7,
   "metadata": {},
   "outputs": [
    {
     "name": "stdout",
     "output_type": "stream",
     "text": [
      "Could not find query for ticker: BTC-USD\n",
      "Attempting to download data for: BTC-USD\n"
     ]
    },
    {
     "name": "stderr",
     "output_type": "stream",
     "text": [
      "[*********************100%%**********************]  1 of 1 completed"
     ]
    },
    {
     "name": "stdout",
     "output_type": "stream",
     "text": [
      "Retrying query for ticker: BTC-USD\n",
      "              Open          High           Low         Close       Volume  \\\n",
      "0      7194.892090   7254.330566   7174.944336   7200.174316  18565664997   \n",
      "1      7202.551270   7212.155273   6935.270020   6985.470215  20802083465   \n",
      "2      6984.428711   7413.715332   6914.996094   7344.884277  28111481032   \n",
      "3      7345.375488   7427.385742   7309.514160   7410.656738  18444271275   \n",
      "4      7410.451660   7544.497070   7400.535645   7411.317383  19725074095   \n",
      "...            ...           ...           ...           ...          ...   \n",
      "1558  68897.109375  70284.429688  68851.632812  69362.554688  21204930369   \n",
      "1559  69362.554688  72715.359375  69064.242188  71631.359375  37261432669   \n",
      "1560  71632.500000  71742.507812  68212.921875  69139.015625  36426900409   \n",
      "1561  69140.242188  71093.429688  67503.562500  70587.882812  38318601774   \n",
      "1562  70635.023438  71244.460938  69590.742188  70242.382812  33966594048   \n",
      "\n",
      "       ticker        SMA_20        SMA_50        EMA_20        EMA_50  \\\n",
      "0     BTC-USD           NaN           NaN           NaN           NaN   \n",
      "1     BTC-USD           NaN           NaN           NaN           NaN   \n",
      "2     BTC-USD           NaN           NaN           NaN           NaN   \n",
      "3     BTC-USD           NaN           NaN           NaN           NaN   \n",
      "4     BTC-USD           NaN           NaN           NaN           NaN   \n",
      "...       ...           ...           ...           ...           ...   \n",
      "1558  BTC-USD  67857.339063  64463.773047  67987.334325  63774.914048   \n",
      "1559  BTC-USD  68343.268359  64853.949297  68334.384330  64083.009943   \n",
      "1560  BTC-USD  68404.535547  65201.146719  68411.015882  64281.284676   \n",
      "1561  BTC-USD  68659.360156  65567.206875  68618.336542  64528.602250   \n",
      "1562  BTC-USD  68982.541211  65935.270937  68773.007615  64752.672076   \n",
      "\n",
      "         RSI_14         MACD  MACD_Signal      BB_Upper     BB_Middle  \\\n",
      "0           NaN          NaN          NaN           NaN           NaN   \n",
      "1           NaN          NaN          NaN           NaN           NaN   \n",
      "2           NaN          NaN          NaN           NaN           NaN   \n",
      "3           NaN          NaN          NaN           NaN           NaN   \n",
      "4           NaN          NaN          NaN   7594.468668   7270.500586   \n",
      "...         ...          ...          ...           ...           ...   \n",
      "1558  54.994540  1072.352615  1431.043966  70475.716800  68117.192187   \n",
      "1559  59.330583  1248.046299  1394.444433  71832.306752  69247.301562   \n",
      "1560  53.260067  1172.655851  1350.086717  71861.676328  69373.335938   \n",
      "1561  56.073758  1215.804810  1323.230335  71991.000388  69923.384375   \n",
      "1562  55.220088  1208.194396  1300.223147  71987.692403  70192.639063   \n",
      "\n",
      "          BB_Lower       ATR_14           OBV           ADL  \n",
      "0              NaN          NaN  1.856566e+10 -6.764844e+09  \n",
      "1              NaN          NaN -2.236418e+09 -2.002396e+10  \n",
      "2              NaN          NaN  2.587506e+10  3.278764e+08  \n",
      "3              NaN          NaN  4.431933e+10  1.353672e+10  \n",
      "4      6946.532504          NaN  6.404441e+10 -3.233808e+09  \n",
      "...            ...          ...           ...           ...  \n",
      "1558  65758.667575  3117.468488  1.307426e+12  4.285811e+12  \n",
      "1559  66662.296373  3155.586252  1.344687e+12  4.300947e+12  \n",
      "1560  66884.995547  3182.300515  1.308260e+12  4.283635e+12  \n",
      "1561  67855.768362  3211.412420  1.346579e+12  4.311162e+12  \n",
      "1562  68397.585722  3100.148587  1.312612e+12  4.303964e+12  \n",
      "\n",
      "[1563 rows x 19 columns]\n"
     ]
    },
    {
     "name": "stderr",
     "output_type": "stream",
     "text": [
      "\n"
     ]
    }
   ],
   "source": [
    "table_name = 'stock_data'\n",
    "connection_str = 'sqlite:///db/neat_stock_data.db'\n",
    "stock_db_config = DatabaseConfig(table_name, connection_str)\n",
    "stock_db_connection = StockDataHandler(stock_db_config)\n",
    "\n",
    "df = stock_db_connection.query_ticker('BTC-USD')\n",
    "print(df)"
   ]
  },
  {
   "cell_type": "code",
   "execution_count": null,
   "metadata": {},
   "outputs": [],
   "source": []
  }
 ],
 "metadata": {
  "kernelspec": {
   "display_name": "Python 3.10.14 ('stockTraderNeatVenv')",
   "language": "python",
   "name": "python3"
  },
  "language_info": {
   "codemirror_mode": {
    "name": "ipython",
    "version": 3
   },
   "file_extension": ".py",
   "mimetype": "text/x-python",
   "name": "python",
   "nbconvert_exporter": "python",
   "pygments_lexer": "ipython3",
   "version": "3.10.14"
  },
  "orig_nbformat": 4,
  "vscode": {
   "interpreter": {
    "hash": "b23452cdbaf4c6b8d4d0bb23d6bd73ddabae4c7a49246b3cdc091874dff00156"
   }
  }
 },
 "nbformat": 4,
 "nbformat_minor": 2
}
