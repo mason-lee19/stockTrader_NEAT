{
 "cells": [
  {
   "cell_type": "code",
   "execution_count": 107,
   "metadata": {},
   "outputs": [],
   "source": [
    "import yfinance as yf\n",
    "import pandas as pd\n",
    "from sqlalchemy import create_engine, text\n",
    "import os"
   ]
  },
  {
   "cell_type": "code",
   "execution_count": 106,
   "metadata": {},
   "outputs": [],
   "source": [
    "connection_string = 'sqlite:///neat_stock_data.db'"
   ]
  },
  {
   "cell_type": "code",
   "execution_count": 102,
   "metadata": {},
   "outputs": [],
   "source": [
    "def download_stock_data(ticker: str):\n",
    "    data = yf.download(ticker, start='2020-01-01')\n",
    "    return data\n",
    "\n",
    "def upload_stock_data_to_sql(data:pd.DataFrame, ticker: str):\n",
    "    df = pd.DataFrame(data)\n",
    "    df['Ticker'] = ticker\n",
    "    df.drop(columns=['High','Low','Close'],inplace=True)\n",
    "    engine = create_engine(connection_string, echo=True)\n",
    "    df.to_sql('stock_data', con=engine, if_exists='replace', index=False)"
   ]
  },
  {
   "cell_type": "code",
   "execution_count": 103,
   "metadata": {},
   "outputs": [
    {
     "name": "stderr",
     "output_type": "stream",
     "text": [
      "[*********************100%%**********************]  1 of 1 completed"
     ]
    },
    {
     "name": "stdout",
     "output_type": "stream",
     "text": [
      "2024-04-09 13:58:22,346 INFO sqlalchemy.engine.Engine BEGIN (implicit)\n",
      "2024-04-09 13:58:22,347 INFO sqlalchemy.engine.Engine PRAGMA main.table_info(\"stock_data\")\n",
      "2024-04-09 13:58:22,348 INFO sqlalchemy.engine.Engine [raw sql] ()\n",
      "2024-04-09 13:58:22,349 INFO sqlalchemy.engine.Engine PRAGMA temp.table_info(\"stock_data\")\n",
      "2024-04-09 13:58:22,350 INFO sqlalchemy.engine.Engine [raw sql] ()\n",
      "2024-04-09 13:58:22,351 INFO sqlalchemy.engine.Engine \n",
      "CREATE TABLE stock_data (\n",
      "\t\"Open\" FLOAT, \n",
      "\t\"Adj Close\" FLOAT, \n",
      "\t\"Volume\" BIGINT, \n",
      "\t\"Ticker\" TEXT\n",
      ")\n",
      "\n",
      "\n",
      "2024-04-09 13:58:22,352 INFO sqlalchemy.engine.Engine [no key 0.00073s] ()\n",
      "2024-04-09 13:58:22,362 INFO sqlalchemy.engine.Engine INSERT INTO stock_data (\"Open\", \"Adj Close\", \"Volume\", \"Ticker\") VALUES (?, ?, ?, ?)\n",
      "2024-04-09 13:58:22,363 INFO sqlalchemy.engine.Engine [generated in 0.00545s] [(7194.89208984375, 7200.17431640625, 18565664997, 'BTC-USD'), (7202.55126953125, 6985.47021484375, 20802083465, 'BTC-USD'), (6984.4287109375, 7344.88427734375, 28111481032, 'BTC-USD'), (7345.37548828125, 7410.65673828125, 18444271275, 'BTC-USD'), (7410.45166015625, 7411.3173828125, 19725074095, 'BTC-USD'), (7410.4521484375, 7769.21923828125, 23276261598, 'BTC-USD'), (7768.68212890625, 8163.6923828125, 28767291327, 'BTC-USD'), (8161.935546875, 8079.86279296875, 31672559265, 'BTC-USD')  ... displaying 10 of 1561 total bound parameter sets ...  (69362.5546875, 71631.359375, 37261432669, 'BTC-USD'), (71633.46875, 69064.0078125, 36225589248, 'BTC-USD')]\n",
      "2024-04-09 13:58:22,368 INFO sqlalchemy.engine.Engine COMMIT\n"
     ]
    },
    {
     "name": "stderr",
     "output_type": "stream",
     "text": [
      "\n"
     ]
    }
   ],
   "source": [
    "ticker = 'BTC-USD'\n",
    "data = download_stock_data(ticker)\n",
    "upload_stock_data_to_sql(data,ticker)"
   ]
  },
  {
   "cell_type": "code",
   "execution_count": 104,
   "metadata": {},
   "outputs": [],
   "source": [
    "def query_data(ticker: str):\n",
    "    engine = create_engine(connection_string)\n",
    "    table_name = 'stock_data'\n",
    "    query = f\"SELECT * FROM {table_name} WHERE Ticker = '{ticker}'\"\n",
    "    \n",
    "    return pd.read_sql(query, engine)\n",
    "\n",
    "def query_all():\n",
    "    engine = create_engine(connection_string)\n",
    "    table_name = 'stock_data'\n",
    "    query = f\"SELECT * FROM {table_name}\"\n",
    "\n",
    "    return pd.read_sql(query, engine)\n",
    "\n",
    "def delete_data(ticker: str):\n",
    "    engine = create_engine(connection_string)\n",
    "    table_name = \"stock_data\"\n",
    "    condition = f\"Ticker = '{ticker}'\"\n",
    "\n",
    "    with engine.connect() as connection:\n",
    "        result = connection.execute(text(f\"DELETE FROM {table_name} WHERE {condition} \"))\n",
    "        connection.commit()\n",
    "    \n",
    "        print(f\"Deleted {result.rowcount} row(s) from {table_name}\")\n",
    "\n",
    "    connection.close"
   ]
  },
  {
   "cell_type": "code",
   "execution_count": 92,
   "metadata": {},
   "outputs": [
    {
     "name": "stdout",
     "output_type": "stream",
     "text": [
      "Deleted 1561 row(s) from stock_data\n"
     ]
    }
   ],
   "source": [
    "delete_data('BTC-USD')"
   ]
  },
  {
   "cell_type": "code",
   "execution_count": 105,
   "metadata": {},
   "outputs": [
    {
     "data": {
      "text/html": [
       "<div>\n",
       "<style scoped>\n",
       "    .dataframe tbody tr th:only-of-type {\n",
       "        vertical-align: middle;\n",
       "    }\n",
       "\n",
       "    .dataframe tbody tr th {\n",
       "        vertical-align: top;\n",
       "    }\n",
       "\n",
       "    .dataframe thead th {\n",
       "        text-align: right;\n",
       "    }\n",
       "</style>\n",
       "<table border=\"1\" class=\"dataframe\">\n",
       "  <thead>\n",
       "    <tr style=\"text-align: right;\">\n",
       "      <th></th>\n",
       "      <th>Open</th>\n",
       "      <th>Adj Close</th>\n",
       "      <th>Volume</th>\n",
       "      <th>Ticker</th>\n",
       "    </tr>\n",
       "  </thead>\n",
       "  <tbody>\n",
       "    <tr>\n",
       "      <th>0</th>\n",
       "      <td>7194.892090</td>\n",
       "      <td>7200.174316</td>\n",
       "      <td>18565664997</td>\n",
       "      <td>BTC-USD</td>\n",
       "    </tr>\n",
       "    <tr>\n",
       "      <th>1</th>\n",
       "      <td>7202.551270</td>\n",
       "      <td>6985.470215</td>\n",
       "      <td>20802083465</td>\n",
       "      <td>BTC-USD</td>\n",
       "    </tr>\n",
       "    <tr>\n",
       "      <th>2</th>\n",
       "      <td>6984.428711</td>\n",
       "      <td>7344.884277</td>\n",
       "      <td>28111481032</td>\n",
       "      <td>BTC-USD</td>\n",
       "    </tr>\n",
       "    <tr>\n",
       "      <th>3</th>\n",
       "      <td>7345.375488</td>\n",
       "      <td>7410.656738</td>\n",
       "      <td>18444271275</td>\n",
       "      <td>BTC-USD</td>\n",
       "    </tr>\n",
       "    <tr>\n",
       "      <th>4</th>\n",
       "      <td>7410.451660</td>\n",
       "      <td>7411.317383</td>\n",
       "      <td>19725074095</td>\n",
       "      <td>BTC-USD</td>\n",
       "    </tr>\n",
       "    <tr>\n",
       "      <th>...</th>\n",
       "      <td>...</td>\n",
       "      <td>...</td>\n",
       "      <td>...</td>\n",
       "      <td>...</td>\n",
       "    </tr>\n",
       "    <tr>\n",
       "      <th>1556</th>\n",
       "      <td>68515.757812</td>\n",
       "      <td>67837.640625</td>\n",
       "      <td>33748230056</td>\n",
       "      <td>BTC-USD</td>\n",
       "    </tr>\n",
       "    <tr>\n",
       "      <th>1557</th>\n",
       "      <td>67840.570312</td>\n",
       "      <td>68896.109375</td>\n",
       "      <td>19967785809</td>\n",
       "      <td>BTC-USD</td>\n",
       "    </tr>\n",
       "    <tr>\n",
       "      <th>1558</th>\n",
       "      <td>68897.109375</td>\n",
       "      <td>69362.554688</td>\n",
       "      <td>21204930369</td>\n",
       "      <td>BTC-USD</td>\n",
       "    </tr>\n",
       "    <tr>\n",
       "      <th>1559</th>\n",
       "      <td>69362.554688</td>\n",
       "      <td>71631.359375</td>\n",
       "      <td>37261432669</td>\n",
       "      <td>BTC-USD</td>\n",
       "    </tr>\n",
       "    <tr>\n",
       "      <th>1560</th>\n",
       "      <td>71633.468750</td>\n",
       "      <td>69064.007812</td>\n",
       "      <td>36225589248</td>\n",
       "      <td>BTC-USD</td>\n",
       "    </tr>\n",
       "  </tbody>\n",
       "</table>\n",
       "<p>1561 rows × 4 columns</p>\n",
       "</div>"
      ],
      "text/plain": [
       "              Open     Adj Close       Volume   Ticker\n",
       "0      7194.892090   7200.174316  18565664997  BTC-USD\n",
       "1      7202.551270   6985.470215  20802083465  BTC-USD\n",
       "2      6984.428711   7344.884277  28111481032  BTC-USD\n",
       "3      7345.375488   7410.656738  18444271275  BTC-USD\n",
       "4      7410.451660   7411.317383  19725074095  BTC-USD\n",
       "...            ...           ...          ...      ...\n",
       "1556  68515.757812  67837.640625  33748230056  BTC-USD\n",
       "1557  67840.570312  68896.109375  19967785809  BTC-USD\n",
       "1558  68897.109375  69362.554688  21204930369  BTC-USD\n",
       "1559  69362.554688  71631.359375  37261432669  BTC-USD\n",
       "1560  71633.468750  69064.007812  36225589248  BTC-USD\n",
       "\n",
       "[1561 rows x 4 columns]"
      ]
     },
     "execution_count": 105,
     "metadata": {},
     "output_type": "execute_result"
    }
   ],
   "source": [
    "df = query_all()\n",
    "df"
   ]
  },
  {
   "cell_type": "code",
   "execution_count": 108,
   "metadata": {},
   "outputs": [],
   "source": [
    "def delete_db(db_file):\n",
    "    try:\n",
    "        os.remove(db_file)\n",
    "        print(f\"SQLite databse '{db_file}' deleted successfully\")\n",
    "    \n",
    "    except FileNotFoundError:\n",
    "        print(f\"Could not find SQLite database '{db_file}'\")\n",
    "\n",
    "    except Exception as e:\n",
    "        print(f\"An error occured: {e}\")    "
   ]
  },
  {
   "cell_type": "code",
   "execution_count": 109,
   "metadata": {},
   "outputs": [
    {
     "name": "stdout",
     "output_type": "stream",
     "text": [
      "Could not find SQLite database 'sqlite:///stock_data.db'\n"
     ]
    }
   ],
   "source": [
    "delete_db(\"sqlite:///stock_data.db\")"
   ]
  },
  {
   "cell_type": "code",
   "execution_count": null,
   "metadata": {},
   "outputs": [],
   "source": []
  }
 ],
 "metadata": {
  "kernelspec": {
   "display_name": "Python 3.10.14 ('stockTraderNeatVenv')",
   "language": "python",
   "name": "python3"
  },
  "language_info": {
   "codemirror_mode": {
    "name": "ipython",
    "version": 3
   },
   "file_extension": ".py",
   "mimetype": "text/x-python",
   "name": "python",
   "nbconvert_exporter": "python",
   "pygments_lexer": "ipython3",
   "version": "3.10.14"
  },
  "orig_nbformat": 4,
  "vscode": {
   "interpreter": {
    "hash": "b23452cdbaf4c6b8d4d0bb23d6bd73ddabae4c7a49246b3cdc091874dff00156"
   }
  }
 },
 "nbformat": 4,
 "nbformat_minor": 2
}
